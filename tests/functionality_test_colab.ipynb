{
  "cells": [
    {
      "cell_type": "markdown",
      "source": [
        "# Install requirements"
      ],
      "metadata": {
        "id": "9TjH4KhZLwET"
      }
    },
    {
      "cell_type": "code",
      "source": [],
      "metadata": {
        "id": "rTh4LOc0Lvcp"
      },
      "execution_count": null,
      "outputs": []
    },
    {
      "cell_type": "code",
      "execution_count": 1,
      "metadata": {
        "id": "J3X-RgjzLdhe",
        "outputId": "456c53e9-9015-495e-85e2-9ae6764795cb",
        "colab": {
          "base_uri": "https://localhost:8080/",
          "height": 368
        }
      },
      "outputs": [
        {
          "output_type": "error",
          "ename": "ModuleNotFoundError",
          "evalue": "ignored",
          "traceback": [
            "\u001b[0;31m---------------------------------------------------------------------------\u001b[0m",
            "\u001b[0;31mModuleNotFoundError\u001b[0m                       Traceback (most recent call last)",
            "\u001b[0;32m<ipython-input-1-21b06e7d2a48>\u001b[0m in \u001b[0;36m<cell line: 2>\u001b[0;34m()\u001b[0m\n\u001b[1;32m      1\u001b[0m \u001b[0;31m#necessary imports:\u001b[0m\u001b[0;34m\u001b[0m\u001b[0;34m\u001b[0m\u001b[0m\n\u001b[0;32m----> 2\u001b[0;31m \u001b[0;32mimport\u001b[0m \u001b[0mgeopandas\u001b[0m \u001b[0;32mas\u001b[0m \u001b[0mgpd\u001b[0m\u001b[0;34m\u001b[0m\u001b[0;34m\u001b[0m\u001b[0m\n\u001b[0m\u001b[1;32m      3\u001b[0m \u001b[0;32mimport\u001b[0m \u001b[0mpandas\u001b[0m \u001b[0;32mas\u001b[0m \u001b[0mpd\u001b[0m\u001b[0;34m\u001b[0m\u001b[0;34m\u001b[0m\u001b[0m\n\u001b[1;32m      4\u001b[0m \u001b[0;32mimport\u001b[0m \u001b[0mjson\u001b[0m\u001b[0;34m\u001b[0m\u001b[0;34m\u001b[0m\u001b[0m\n\u001b[1;32m      5\u001b[0m \u001b[0;32mimport\u001b[0m \u001b[0msys\u001b[0m\u001b[0;34m\u001b[0m\u001b[0;34m\u001b[0m\u001b[0m\n",
            "\u001b[0;31mModuleNotFoundError\u001b[0m: No module named 'geopandas'",
            "",
            "\u001b[0;31m---------------------------------------------------------------------------\u001b[0;32m\nNOTE: If your import is failing due to a missing package, you can\nmanually install dependencies using either !pip or !apt.\n\nTo view examples of installing some common dependencies, click the\n\"Open Examples\" button below.\n\u001b[0;31m---------------------------------------------------------------------------\u001b[0m\n"
          ],
          "errorDetails": {
            "actions": [
              {
                "action": "open_url",
                "actionText": "Open Examples",
                "url": "/notebooks/snippets/importing_libraries.ipynb"
              }
            ]
          }
        }
      ],
      "source": [
        "#necessary imports:\n",
        "import geopandas as gpd\n",
        "import pandas as pd\n",
        "import json\n",
        "import sys\n",
        "sys.path.append('../')\n",
        "import copy\n",
        "import tqdm\n",
        "import modules.encoder as encoder\n",
        "import modules.terrain as terrain\n",
        "import modules.parameters as parameters\n",
        "\n",
        "\n"
      ]
    },
    {
      "cell_type": "markdown",
      "metadata": {
        "id": "FHM_5bRwLdhf"
      },
      "source": [
        "# 0. DATASET PREPARATION"
      ]
    },
    {
      "cell_type": "markdown",
      "metadata": {
        "id": "n_mLTb-YLdhh"
      },
      "source": [
        "# 1. GENERATION\n",
        "This part can be skipped and if you are not interested in the generation of the file you can directly jump to the section 2. UPDATING and employ the file that is already present in the _import_ folder.\n",
        "\n",
        "##  1.0 2D GENERATION\n",
        "### First, we import a geojson that has a series of correctly encoded attributes."
      ]
    },
    {
      "cell_type": "code",
      "execution_count": null,
      "metadata": {
        "id": "N-anNMigLdhi"
      },
      "outputs": [],
      "source": [
        "gdf_small = gpd.read_file(\"./import/FILLED_DATASET_SUBSET.geojson\")"
      ]
    },
    {
      "cell_type": "markdown",
      "metadata": {
        "id": "4s10bPhHLdhi"
      },
      "source": [
        "### Then, we convert the geojson into a 2D CityJSON file without any modification."
      ]
    },
    {
      "cell_type": "code",
      "execution_count": null,
      "metadata": {
        "id": "PlJZpCtoLdhi"
      },
      "outputs": [],
      "source": [
        "cityjson_2d=encoder.gdf_to_CityJSON(gdf_small) # clean and convert the dataframe to a cityjson file (2D!)\n",
        "#save the 2D cityjson file\n",
        "with open('./export/2d_cityjson.json', 'w') as outfile:\n",
        "    json.dump(cityjson_2d, outfile)"
      ]
    },
    {
      "cell_type": "markdown",
      "metadata": {
        "id": "ckixuHcNLdhj"
      },
      "source": [
        "## 1.1 TERRAIN GENERATION\n",
        "### We generate the terrain and translate the footprints to the terrain, obtaining a CityJSON file that contains the terrain and the footprints vertically displaced."
      ]
    },
    {
      "cell_type": "code",
      "execution_count": null,
      "metadata": {
        "id": "-vaI91vhLdhj"
      },
      "outputs": [],
      "source": [
        "#if we want to read directly an already generated 2D cityjson file:\n",
        "with open('./export/2d_cityjson.json') as json_file:\n",
        "    cityjson_2d = json.load(json_file)"
      ]
    },
    {
      "cell_type": "code",
      "execution_count": null,
      "metadata": {
        "id": "viFbJfs8Ldhj"
      },
      "outputs": [],
      "source": [
        "#create and insert the terrain using opentopodata\n",
        "cityjson2d_terrain = terrain.insert_terrain_in_cityjson(cityjson_2d, service = 'opentopodata', apikey = None , grid_min_distance = 60, tin_max_error = 1)"
      ]
    },
    {
      "cell_type": "code",
      "execution_count": null,
      "metadata": {
        "id": "o6xkDjF2Ldhk"
      },
      "outputs": [],
      "source": [
        "#save the file with terrain\n",
        "with open('./export/2d_cityjson_with_terrain.json', 'w') as outfile:\n",
        "    json.dump(cityjson2d_terrain, outfile)"
      ]
    },
    {
      "cell_type": "markdown",
      "metadata": {
        "id": "m3kuM2IYLdhk"
      },
      "source": [
        "## 1.2 3D GENERATION\n",
        "### We iterate over each element of the cityjson_2d and we use its attributes to create the 3D cityjson. (LOD1 and LOD2 geometry)"
      ]
    },
    {
      "cell_type": "code",
      "execution_count": null,
      "metadata": {
        "id": "MYWmgIXPLdhk"
      },
      "outputs": [],
      "source": [
        "#if we want to load a cityjson file with terrain:\n",
        "with open('./export/2d_cityjson_with_terrain.json') as json_file:\n",
        "    cityjson2d_terrain = json.load(json_file)"
      ]
    },
    {
      "cell_type": "code",
      "execution_count": null,
      "metadata": {
        "id": "3Y9hlihELdhk",
        "outputId": "f6f79772-98f7-496c-ea27-430e011e0126"
      },
      "outputs": [
        {
          "name": "stderr",
          "output_type": "stream",
          "text": [
            "  7%|▋         | 50/767 [01:34<22:40,  1.90s/it] \n"
          ]
        }
      ],
      "source": [
        "# now we can generate the 3D geometry for each building\n",
        "cityjson_3d= copy.deepcopy(cityjson2d_terrain)\n",
        "for id in tqdm.tqdm(cityjson_3d['CityObjects'].keys()): #loop over all the buildings\n",
        "\n",
        "    cityjson_3d = encoder.update_cityjson_geometry(cityjson_3d, id) #update the cityjson file with the 3D geometry of the building\n",
        "    if id == 'id-50':\n",
        "        break"
      ]
    },
    {
      "cell_type": "code",
      "execution_count": null,
      "metadata": {
        "id": "gDbaGEEyLdhl"
      },
      "outputs": [],
      "source": [
        "# and save the 3D cityjson file:\n",
        "with open('./export/3d_cityjson_hip_test.json', 'w') as json_3d:\n",
        "    json.dump(cityjson_3d, json_3d)"
      ]
    },
    {
      "cell_type": "markdown",
      "metadata": {
        "id": "IOIPYSu2Ldhl"
      },
      "source": [
        "# 2. UPDATING"
      ]
    },
    {
      "cell_type": "code",
      "execution_count": null,
      "metadata": {
        "id": "g_e9ZoEwLdhl"
      },
      "outputs": [],
      "source": [
        "#we can import a 3D cityjson file:\n",
        "latest_cityjson_path = './import/jerusalem_3d.json'\n",
        "with open(latest_cityjson_path, 'r') as f:\n",
        "    latest_cityjson = json.load(f)\n"
      ]
    },
    {
      "cell_type": "markdown",
      "metadata": {
        "id": "nNTJZ__5Ldhm"
      },
      "source": []
    }
  ],
  "metadata": {
    "kernelspec": {
      "display_name": "Python 3.10.4 ('dhCityModeller')",
      "language": "python",
      "name": "python3"
    },
    "language_info": {
      "codemirror_mode": {
        "name": "ipython",
        "version": 3
      },
      "file_extension": ".py",
      "mimetype": "text/x-python",
      "name": "python",
      "nbconvert_exporter": "python",
      "pygments_lexer": "ipython3",
      "version": "3.10.0"
    },
    "orig_nbformat": 4,
    "vscode": {
      "interpreter": {
        "hash": "6045bf2f8d7785ceaee67a8df419762f500f59e1943ace876e6b428e232b0e87"
      }
    },
    "colab": {
      "provenance": []
    }
  },
  "nbformat": 4,
  "nbformat_minor": 0
}