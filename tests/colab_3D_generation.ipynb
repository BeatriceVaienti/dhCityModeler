{
  "cells": [
    {
      "cell_type": "markdown",
      "metadata": {
        "id": "view-in-github",
        "colab_type": "text"
      },
      "source": [
        "<a href=\"https://colab.research.google.com/github/BeatriceVaienti/dhCityModeller/blob/master/functionality_test_3D_generation.ipynb\" target=\"_parent\"><img src=\"https://colab.research.google.com/assets/colab-badge.svg\" alt=\"Open In Colab\"/></a>"
      ]
    },
    {
      "cell_type": "markdown",
      "source": [
        "# **USING DHCITYMODELLER: AUTOMATIC GENERATION OF A 3D CITYJSON**"
      ],
      "metadata": {
        "id": "2_Nz15On5FCn"
      }
    },
    {
      "cell_type": "markdown",
      "source": [
        "# **0. REPOSITORY CLONING AND IMPORTS**\n",
        "Before starting, use this set of cells to clone and install the repository in the Google Colab, and to import the necessary modules."
      ],
      "metadata": {
        "id": "baY8y9ZQjkWB"
      }
    },
    {
      "cell_type": "markdown",
      "source": [
        "## 0.0-A Repository cloning while it's private:\n"
      ],
      "metadata": {
        "id": "RNmBvpZZiMOz"
      }
    },
    {
      "cell_type": "code",
      "source": [
        "# ONLY UNTIL THE REPO IS PRIVATE!\n",
        "!wget -q https://raw.githubusercontent.com/tsunrise/colab-github/main/colab_github.py\n",
        "import colab_github\n",
        "colab_github.github_auth(persistent_key=True)\n",
        "!git clone git@github.com:BeatriceVaienti/dhCityModeller.git\n",
        "# We move inside the folder that we just created and install the repo:\n",
        "!pip install -q setuptools\n",
        "%cd /content/dhCityModeller\n",
        "! pip install .\n",
        "#geopandas can have issues when installed with pip like we did, so we make sure it is correctly installed:\n",
        "! pip install --force-reinstall geopandas"
      ],
      "metadata": {
        "colab": {
          "base_uri": "https://localhost:8080/"
        },
        "id": "iFpYMdUQDxXL",
        "outputId": "21b2611f-7a0c-4fb1-ed9f-a60090a7a5a7"
      },
      "execution_count": null,
      "outputs": [
        {
          "output_type": "stream",
          "name": "stdout",
          "text": [
            "Mounted at /content/drive/\n",
            "Looks that a private key is already created. If you have already push it to github, no action required.\n",
            " Otherwise, Please go to https://github.com/settings/ssh/new to upload the following key: \n",
            "ssh-ed25519 AAAAC3NzaC1lZDI1NTE5AAAAIHwvmnQNtn+uqNJq0CgCpcLeqEqSXUI5eBxjg61eZSOz root@3d3c5dad2a5a\n",
            "\n",
            "Please use SSH method to clone repo.\n",
            "Cloning into 'dhCityModeller'...\n",
            "Warning: Permanently added the ED25519 host key for IP address '140.82.113.4' to the list of known hosts.\n",
            "remote: Enumerating objects: 118, done.\u001b[K\n",
            "remote: Counting objects: 100% (118/118), done.\u001b[K\n",
            "remote: Compressing objects: 100% (90/90), done.\u001b[K\n",
            "remote: Total 118 (delta 55), reused 73 (delta 25), pack-reused 0\u001b[K\n",
            "Receiving objects: 100% (118/118), 431.15 KiB | 5.07 MiB/s, done.\n",
            "Resolving deltas: 100% (55/55), done.\n"
          ]
        }
      ]
    },
    {
      "cell_type": "markdown",
      "source": [
        "## 0.0-B Repository cloning once it's public:"
      ],
      "metadata": {
        "id": "NPvTJcm-Nwhw"
      }
    },
    {
      "cell_type": "code",
      "source": [
        "# only when the repo is public\n",
        "! git clone https://github.com/BeatriceVaienti/dhCityModeller.git\n",
        "! pip install git+https://github.com/BeatriceVaienti/dhCityModeller.git@master"
      ],
      "metadata": {
        "id": "rTh4LOc0Lvcp"
      },
      "execution_count": null,
      "outputs": []
    },
    {
      "cell_type": "markdown",
      "source": [
        "## 0.1 Necessary Imports"
      ],
      "metadata": {
        "id": "9TjH4KhZLwET"
      }
    },
    {
      "cell_type": "code",
      "execution_count": null,
      "metadata": {
        "id": "J3X-RgjzLdhe"
      },
      "outputs": [],
      "source": [
        "import geopandas as gpd\n",
        "import json\n",
        "import sys\n",
        "sys.path.append('../')\n",
        "import copy\n",
        "import tqdm\n",
        "import modules.encoder as encoder\n",
        "import modules.terrain as terrain"
      ]
    },
    {
      "cell_type": "markdown",
      "metadata": {
        "id": "n_mLTb-YLdhh"
      },
      "source": [
        "# **1. THE PIPELINE**\n",
        "Starting from a GeoJSON whose attributes are filled accordingly to the Historical CityJSON extension, we will follow the pipeline that leads to the automatic generation of a 3D CityJSON file containing LOD0, LOD1, and LOD2 geometries.\n",
        "\n",
        "\n",
        "Every section of the pipeline can be skipped if you already have a file to import and you just want to start from a CityJSON file.\n"
      ]
    },
    {
      "cell_type": "markdown",
      "source": [
        "## **1.1 GENERATION OF A 2D CITYJSON**\n",
        "In the folder /tests/import/ we provide a test dataset that is filled accordingly to our extension. Of course, it is also possible to test our library with your own dataset: just put your GeoJSON in the /tests/import folder after making it compliant with the Historical CityJSON extension. It is necessary to respect the extension in order to have a correct mapping between the fields contained in the original file and the attributes that are then going to be used as parameters for the process of procedural modelling. If you want to be guided in the process of mapping the fields of your files in a compliant way and to use our machine learning tools to fill gaps in your dataset, use our other Colab ...\n",
        "\n",
        "First, we read the GeoJSON file:"
      ],
      "metadata": {
        "id": "afKN8g3mnLtn"
      }
    },
    {
      "cell_type": "code",
      "execution_count": null,
      "metadata": {
        "id": "N-anNMigLdhi"
      },
      "outputs": [],
      "source": [
        "gdf_test = gpd.read_file(\"./tests/import/FILLED_DATASET_SUBSET.geojson\")"
      ]
    },
    {
      "cell_type": "markdown",
      "metadata": {
        "id": "4s10bPhHLdhi"
      },
      "source": [
        "Then, we convert the geojson into a 2D CityJSON file without any modification (the process is a simple mapping between the GeoJSON geometries and tabular-form attributes into a CityJSON geometry and hierarchical-form structure)"
      ]
    },
    {
      "cell_type": "code",
      "execution_count": null,
      "metadata": {
        "id": "PlJZpCtoLdhi"
      },
      "outputs": [],
      "source": [
        "cityjson_2d=encoder.gdf_to_CityJSON(gdf_test) # clean and convert the dataframe to a cityjson file (2D!)\n",
        "#save the 2D cityjson file\n",
        "with open('./tests/export/2d_cityjson.json', 'w') as outfile:\n",
        "    json.dump(cityjson_2d, outfile)"
      ]
    },
    {
      "cell_type": "markdown",
      "metadata": {
        "id": "ckixuHcNLdhj"
      },
      "source": [
        "## **1.2 TERRAIN GENERATION**\n",
        "In this phase we generate the terrain and translate vertically the footprints to the terrain level, obtaining a CityJSON file that contains the terrain and the footprints vertically displaced.\n",
        "\n",
        "The terrain data can be obtained either using [OpenTopoData](https://www.opentopodata.org) or by using the [Google Elevation API](https://developers.google.com/maps/documentation/elevation/overview). If you decide to use the latter, it is necessary to provide your apikey in the \"insert_terrain_in_cityjson\" function."
      ]
    },
    {
      "cell_type": "markdown",
      "source": [
        "##### If you already have a 2D CityJSON file and you want to import that from file:"
      ],
      "metadata": {
        "id": "HFIBd3iDqfmk"
      }
    },
    {
      "cell_type": "code",
      "execution_count": null,
      "metadata": {
        "id": "-vaI91vhLdhj"
      },
      "outputs": [],
      "source": [
        "with open('./export/2d_cityjson.json') as json_file:\n",
        "    cityjson_2d = json.load(json_file)"
      ]
    },
    {
      "cell_type": "markdown",
      "source": [
        "##### We query the elevation, generate a TIN mesh, move vertically the footprints and embed them in the CityJSON file:"
      ],
      "metadata": {
        "id": "id67U5z0qqpR"
      }
    },
    {
      "cell_type": "code",
      "execution_count": null,
      "metadata": {
        "id": "viFbJfs8Ldhj"
      },
      "outputs": [],
      "source": [
        "cityjson2d_terrain = terrain.insert_terrain_in_cityjson(cityjson_2d, service = 'opentopodata', apikey = None , grid_min_distance = 60, tin_max_error = 1)"
      ]
    },
    {
      "cell_type": "markdown",
      "source": [
        "##### We can now save the file that we obtained:"
      ],
      "metadata": {
        "id": "PdEg5aO2q7o_"
      }
    },
    {
      "cell_type": "code",
      "execution_count": null,
      "metadata": {
        "id": "o6xkDjF2Ldhk"
      },
      "outputs": [],
      "source": [
        "#save the file with terrain\n",
        "with open('./export/2d_cityjson_with_terrain.json', 'w') as outfile:\n",
        "    json.dump(cityjson2d_terrain, outfile)"
      ]
    },
    {
      "cell_type": "markdown",
      "metadata": {
        "id": "m3kuM2IYLdhk"
      },
      "source": [
        "## **1.3 PROCEDURAL MODELLING: GENERATION OF THE 3D GEOMETRIES**\n",
        "We iterate over each object of the cityjson_2d and we use its attributes to create the 3D cityjson. (LOD1 and LOD2 geometry)"
      ]
    },
    {
      "cell_type": "markdown",
      "source": [
        "##### If you already have a 2D CityJSON file and you want to import that from file:"
      ],
      "metadata": {
        "id": "z6b84LjH29zw"
      }
    },
    {
      "cell_type": "code",
      "execution_count": null,
      "metadata": {
        "id": "MYWmgIXPLdhk"
      },
      "outputs": [],
      "source": [
        "with open('./export/2d_cityjson_with_terrain.json') as json_file:\n",
        "    cityjson2d_terrain = json.load(json_file)"
      ]
    },
    {
      "cell_type": "markdown",
      "source": [
        "##### We iterate over each object, we make sure that they are of type \"Building\" and we procedurally create their 3D geometry encoding it in the CityJSON file:"
      ],
      "metadata": {
        "id": "Nn_lH5U_3Hk4"
      }
    },
    {
      "cell_type": "code",
      "execution_count": null,
      "metadata": {
        "id": "3Y9hlihELdhk",
        "outputId": "05294200-5a4a-4d7a-d23c-3f3b9b7f5725",
        "colab": {
          "base_uri": "https://localhost:8080/"
        }
      },
      "outputs": [
        {
          "output_type": "stream",
          "name": "stderr",
          "text": [
            " 27%|██▋       | 204/767 [09:13<12:32,  1.34s/it]"
          ]
        }
      ],
      "source": [
        "cityjson_3d= copy.deepcopy(cityjson2d_terrain)\n",
        "for id in tqdm.tqdm(cityjson_3d['CityObjects'].keys()): #loop over all the buildings\n",
        "    if cityjson_3d['CityObjects'][id]['type'] == 'Building':\n",
        "      cityjson_3d = encoder.update_cityjson_geometry(cityjson_3d, id) #update the cityjson file with the 3D geometry of the building\n"
      ]
    },
    {
      "cell_type": "code",
      "execution_count": null,
      "metadata": {
        "id": "gDbaGEEyLdhl"
      },
      "outputs": [],
      "source": [
        "# and save the 3D cityjson file:\n",
        "with open('./export/3d_cityjson_hip_test.json', 'w') as json_3d:\n",
        "    json.dump(cityjson_3d, json_3d)"
      ]
    }
  ],
  "metadata": {
    "kernelspec": {
      "display_name": "Python 3.10.4 ('dhCityModeller')",
      "language": "python",
      "name": "python3"
    },
    "language_info": {
      "codemirror_mode": {
        "name": "ipython",
        "version": 3
      },
      "file_extension": ".py",
      "mimetype": "text/x-python",
      "name": "python",
      "nbconvert_exporter": "python",
      "pygments_lexer": "ipython3",
      "version": "3.10.0"
    },
    "orig_nbformat": 4,
    "vscode": {
      "interpreter": {
        "hash": "6045bf2f8d7785ceaee67a8df419762f500f59e1943ace876e6b428e232b0e87"
      }
    },
    "colab": {
      "provenance": [],
      "collapsed_sections": [
        "RNmBvpZZiMOz",
        "NPvTJcm-Nwhw",
        "9TjH4KhZLwET",
        "HFIBd3iDqfmk",
        "PdEg5aO2q7o_",
        "z6b84LjH29zw"
      ],
      "toc_visible": true,
      "include_colab_link": true
    }
  },
  "nbformat": 4,
  "nbformat_minor": 0
}