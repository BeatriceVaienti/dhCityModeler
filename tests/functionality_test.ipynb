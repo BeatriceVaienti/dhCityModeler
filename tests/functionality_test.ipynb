{
 "cells": [
  {
   "cell_type": "code",
   "execution_count": 1,
   "metadata": {},
   "outputs": [],
   "source": [
    "#necessary imports:\n",
    "import geopandas as gpd\n",
    "import json\n",
    "import sys\n",
    "sys.path.append('../')\n",
    "import copy\n",
    "import tqdm\n",
    "import modules.encoder as encoder\n",
    "import modules.terrain as terrain\n"
   ]
  },
  {
   "cell_type": "markdown",
   "metadata": {},
   "source": [
    "# 1. GENERATION\n",
    "This part can be skipped and if you are not interested in the generation of the file you can directly jump to the section 2. UPDATING and employ the file that is already present in the _import_ folder.\n",
    "\n",
    "### 1. First, we import a geojson that has a series of correctly encoded attributes. "
   ]
  },
  {
   "cell_type": "code",
   "execution_count": null,
   "metadata": {},
   "outputs": [],
   "source": [
    "gdf_small = gpd.read_file(\"./import/FILLED_DATASET_SUBSET.geojson\")"
   ]
  },
  {
   "cell_type": "markdown",
   "metadata": {},
   "source": [
    "### 2. Then, we convert the geojson into a 2D CityJSON file without any modification."
   ]
  },
  {
   "cell_type": "code",
   "execution_count": null,
   "metadata": {},
   "outputs": [],
   "source": [
    "cityjson_2d=encoder.gdf_to_CityJSON(gdf_small) # clean and convert the dataframe to a cityjson file (2D!) \n",
    "#save the 2D cityjson file\n",
    "with open('./export/2d_cityjson.json', 'w') as outfile:\n",
    "    json.dump(cityjson_2d, outfile)"
   ]
  },
  {
   "cell_type": "markdown",
   "metadata": {},
   "source": [
    "### 3. We generate the terrain and translate the footprints to the terrain, obtaining a CityJSON file that contains the terrain and the footprints vertically displaced."
   ]
  },
  {
   "cell_type": "code",
   "execution_count": null,
   "metadata": {},
   "outputs": [],
   "source": [
    "#if we want to read directly an already generated 2D cityjson file:\n",
    "with open('./export/2d_cityjson.json') as json_file:\n",
    "    cityjson_2d = json.load(json_file)"
   ]
  },
  {
   "cell_type": "code",
   "execution_count": null,
   "metadata": {},
   "outputs": [],
   "source": [
    "#create and insert the terrain using opentopodata\n",
    "cityjson2d_terrain = terrain.insert_terrain_in_cityjson(cityjson_2d, service = 'opentopodata', apikey = None , grid_min_distance = 60, tin_max_error = 1)"
   ]
  },
  {
   "cell_type": "code",
   "execution_count": null,
   "metadata": {},
   "outputs": [],
   "source": [
    "#save the file with terrain\n",
    "with open('./export/2d_cityjson_with_terrain.json', 'w') as outfile:\n",
    "    json.dump(cityjson2d_terrain, outfile)"
   ]
  },
  {
   "cell_type": "markdown",
   "metadata": {},
   "source": [
    "### 4. We iterate over each element of the cityjson_2d and we use its attributes to create the 3D cityjson. (LOD1 and LOD2 geometry)"
   ]
  },
  {
   "cell_type": "code",
   "execution_count": 2,
   "metadata": {},
   "outputs": [],
   "source": [
    "#if we want to load a cityjson file with terrain:\n",
    "with open('./export/2d_cityjson_with_terrain.json') as json_file:\n",
    "    cityjson2d_terrain = json.load(json_file)"
   ]
  },
  {
   "cell_type": "code",
   "execution_count": 3,
   "metadata": {},
   "outputs": [
    {
     "name": "stderr",
     "output_type": "stream",
     "text": [
      "  7%|▋         | 50/767 [01:34<22:40,  1.90s/it] \n"
     ]
    }
   ],
   "source": [
    "# now we can generate the 3D geometry for each building\n",
    "cityjson_3d= copy.deepcopy(cityjson2d_terrain) \n",
    "for id in tqdm.tqdm(cityjson_3d['CityObjects'].keys()): #loop over all the buildings\n",
    "\n",
    "    cityjson_3d = encoder.update_cityjson_geometry(cityjson_3d, id) #update the cityjson file with the 3D geometry of the building\n",
    "    if id == 'id-50':\n",
    "        break"
   ]
  },
  {
   "cell_type": "code",
   "execution_count": 4,
   "metadata": {},
   "outputs": [],
   "source": [
    "# and save the 3D cityjson file:\n",
    "with open('./export/3d_cityjson_hip_test.json', 'w') as json_3d:\n",
    "    json.dump(cityjson_3d, json_3d)"
   ]
  }
 ],
 "metadata": {
  "kernelspec": {
   "display_name": "Python 3.10.4 ('dhCityModeller')",
   "language": "python",
   "name": "python3"
  },
  "language_info": {
   "codemirror_mode": {
    "name": "ipython",
    "version": 3
   },
   "file_extension": ".py",
   "mimetype": "text/x-python",
   "name": "python",
   "nbconvert_exporter": "python",
   "pygments_lexer": "ipython3",
   "version": "3.10.0"
  },
  "orig_nbformat": 4,
  "vscode": {
   "interpreter": {
    "hash": "6045bf2f8d7785ceaee67a8df419762f500f59e1943ace876e6b428e232b0e87"
   }
  }
 },
 "nbformat": 4,
 "nbformat_minor": 2
}
