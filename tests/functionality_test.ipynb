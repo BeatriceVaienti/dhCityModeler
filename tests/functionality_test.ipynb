{
 "cells": [
  {
   "cell_type": "markdown",
   "metadata": {},
   "source": [
    "# 1. GENERATION\n",
    "This part can be skipped and if you are not interested in the generation of the file you can directly jump to the section 2. UPDATING and employ the file that is already present in the _import_ folder.\n",
    "\n",
    "### 1. First, we import a geojson that has a series of correctly encoded attributes. "
   ]
  },
  {
   "cell_type": "code",
   "execution_count": 1,
   "metadata": {},
   "outputs": [],
   "source": [
    "import geopandas as gdp\n",
    "\n",
    "gdf = gdp.read_file('./import/subset_jerusalem_attributes.geojson') #this is a 2D geojson file and we are reading it as a geopandas dataframe"
   ]
  },
  {
   "cell_type": "markdown",
   "metadata": {},
   "source": [
    "### 2. Then, we convert the geojson into a 2D CityJSON file without any modification."
   ]
  },
  {
   "cell_type": "code",
   "execution_count": 2,
   "metadata": {},
   "outputs": [],
   "source": [
    "import json\n",
    "import sys\n",
    "sys.path.append('../')\n",
    "import modules.encoder as encoder"
   ]
  },
  {
   "cell_type": "code",
   "execution_count": 3,
   "metadata": {},
   "outputs": [
    {
     "name": "stderr",
     "output_type": "stream",
     "text": [
      "/Users/vaienti/Library/CloudStorage/OneDrive-epfl.ch/2022_DHCityModeler/dhCityModeller/tests/../modules/encoder.py:16: ShapelyDeprecationWarning: The 'type' attribute is deprecated, and will be removed in the future. You can use the 'geom_type' attribute instead.\n",
      "  gdf['geometry'] = gdf['geometry'].apply(lambda geom: geom.geoms[0] if geom.type == 'MultiPolygon' else geom) # Convert MultiPolygons to Polygons\n"
     ]
    },
    {
     "ename": "FileNotFoundError",
     "evalue": "[Errno 2] No such file or directory: './export/2d_cityjson.json'",
     "output_type": "error",
     "traceback": [
      "\u001b[0;31m---------------------------------------------------------------------------\u001b[0m",
      "\u001b[0;31mFileNotFoundError\u001b[0m                         Traceback (most recent call last)",
      "\u001b[1;32m/Users/vaienti/Library/CloudStorage/OneDrive-epfl.ch/2022_DHCityModeler/dhCityModeller/tests/functionality_test.ipynb Cell 5\u001b[0m in \u001b[0;36m<cell line: 3>\u001b[0;34m()\u001b[0m\n\u001b[1;32m      <a href='vscode-notebook-cell:/Users/vaienti/Library/CloudStorage/OneDrive-epfl.ch/2022_DHCityModeler/dhCityModeller/tests/functionality_test.ipynb#X10sZmlsZQ%3D%3D?line=0'>1</a>\u001b[0m cityjson_2d\u001b[39m=\u001b[39mencoder\u001b[39m.\u001b[39mgdf_to_CityJSON(gdf) \u001b[39m# clean and convert the dataframe to a cityjson file (2D!) \u001b[39;00m\n\u001b[1;32m      <a href='vscode-notebook-cell:/Users/vaienti/Library/CloudStorage/OneDrive-epfl.ch/2022_DHCityModeler/dhCityModeller/tests/functionality_test.ipynb#X10sZmlsZQ%3D%3D?line=1'>2</a>\u001b[0m \u001b[39m#save the 2D cityjson file\u001b[39;00m\n\u001b[0;32m----> <a href='vscode-notebook-cell:/Users/vaienti/Library/CloudStorage/OneDrive-epfl.ch/2022_DHCityModeler/dhCityModeller/tests/functionality_test.ipynb#X10sZmlsZQ%3D%3D?line=2'>3</a>\u001b[0m \u001b[39mwith\u001b[39;00m \u001b[39mopen\u001b[39;49m(\u001b[39m'\u001b[39;49m\u001b[39m./export/2d_cityjson.json\u001b[39;49m\u001b[39m'\u001b[39;49m, \u001b[39m'\u001b[39;49m\u001b[39mw\u001b[39;49m\u001b[39m'\u001b[39;49m) \u001b[39mas\u001b[39;00m outfile:\n\u001b[1;32m      <a href='vscode-notebook-cell:/Users/vaienti/Library/CloudStorage/OneDrive-epfl.ch/2022_DHCityModeler/dhCityModeller/tests/functionality_test.ipynb#X10sZmlsZQ%3D%3D?line=3'>4</a>\u001b[0m     json\u001b[39m.\u001b[39mdump(cityjson_2d, outfile)\n",
      "\u001b[0;31mFileNotFoundError\u001b[0m: [Errno 2] No such file or directory: './export/2d_cityjson.json'"
     ]
    }
   ],
   "source": [
    "cityjson_2d=encoder.gdf_to_CityJSON(gdf) # clean and convert the dataframe to a cityjson file (2D!) \n",
    "#save the 2D cityjson file\n",
    "with open('./export/2d_cityjson.json', 'w') as outfile:\n",
    "    json.dump(cityjson_2d, outfile)"
   ]
  },
  {
   "cell_type": "markdown",
   "metadata": {},
   "source": [
    "### 3. We generate the terrain and translate the footprints to the terrain, obtaining a CityJSON file that contains the terrain and the footprints vertically displaced."
   ]
  },
  {
   "cell_type": "code",
   "execution_count": null,
   "metadata": {},
   "outputs": [],
   "source": [
    "import json\n",
    "import sys\n",
    "sys.path.append('../')\n",
    "#import tqdm\n",
    "import copy\n",
    "\n",
    "import random\n",
    "import modules.terrain as terrain"
   ]
  }
 ],
 "metadata": {
  "kernelspec": {
   "display_name": "Python 3.10.4 ('dhCityModeller')",
   "language": "python",
   "name": "python3"
  },
  "language_info": {
   "codemirror_mode": {
    "name": "ipython",
    "version": 3
   },
   "file_extension": ".py",
   "mimetype": "text/x-python",
   "name": "python",
   "nbconvert_exporter": "python",
   "pygments_lexer": "ipython3",
   "version": "3.10.10"
  },
  "orig_nbformat": 4,
  "vscode": {
   "interpreter": {
    "hash": "6045bf2f8d7785ceaee67a8df419762f500f59e1943ace876e6b428e232b0e87"
   }
  }
 },
 "nbformat": 4,
 "nbformat_minor": 2
}
