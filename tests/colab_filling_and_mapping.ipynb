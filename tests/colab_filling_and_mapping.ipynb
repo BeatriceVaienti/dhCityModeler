{
  "cells": [
    {
      "cell_type": "markdown",
      "metadata": {
        "colab_type": "text",
        "id": "view-in-github"
      },
      "source": [
        "<a href=\"https://colab.research.google.com/github/BeatriceVaienti/dhCityModeler/blob/master/tests/colab_filling_and_mapping.ipynb\" target=\"_parent\"><img src=\"https://colab.research.google.com/assets/colab-badge.svg\" alt=\"Open In Colab\"/></a>"
      ]
    },
    {
      "cell_type": "markdown",
      "metadata": {
        "id": "-dj6WvhBJdLM"
      },
      "source": [
        "# **PREPARING THE DATASET TO USE DHCITYMODELER**"
      ]
    },
    {
      "cell_type": "markdown",
      "metadata": {
        "id": "Gc-F-xweJtFh"
      },
      "source": [
        "# **0. REPOSITORY CLONING AND IMPORTS**\n",
        "Before starting, use this set of cells to clone and install the repository in the Google Colab, and to import the necessary modules."
      ]
    },
    {
      "cell_type": "markdown",
      "metadata": {
        "id": "PHX7jZwPJ-pe"
      },
      "source": [
        "## 0.0-A Repository cloning while it's private:"
      ]
    },
    {
      "cell_type": "code",
      "execution_count": null,
      "metadata": {
        "colab": {
          "base_uri": "https://localhost:8080/",
          "height": 1000
        },
        "id": "FSh2oGlyJ6vI",
        "outputId": "26326d48-dfa8-4c48-99cf-71e23bc53d06"
      },
      "outputs": [],
      "source": [
        "# ONLY UNTIL THE REPO IS PRIVATE!\n",
        "!wget -q https://raw.githubusercontent.com/tsunrise/colab-github/main/colab_github.py\n",
        "import colab_github\n",
        "colab_github.github_auth(persistent_key=True)\n",
        "!git clone git@github.com:BeatriceVaienti/dhCityModeler.git\n",
        "# We move inside the folder that we just created and install the repo:\n",
        "!pip install -q setuptools\n",
        "%cd /content/dhCityModeler\n",
        "%pip install .\n",
        "#geopandas can have issues when installed with pip like we did, so we make sure it is correctly installed:\n",
        "%pip install --force-reinstall geopandas\n",
        "# after this, click on restart runtime"
      ]
    },
    {
      "cell_type": "markdown",
      "metadata": {
        "id": "9lod2pI9KGdf"
      },
      "source": [
        "## 0.0-B Repository cloning once it's public:"
      ]
    },
    {
      "cell_type": "code",
      "execution_count": null,
      "metadata": {
        "id": "bvxifHh6KJME"
      },
      "outputs": [],
      "source": [
        "# only when the repo is public\n",
        "! git clone https://github.com/BeatriceVaienti/dhCityModeller.git\n",
        "! pip install git+https://github.com/BeatriceVaienti/dhCityModeller.git@master"
      ]
    },
    {
      "cell_type": "markdown",
      "metadata": {
        "id": "qR7ZOwAfKO49"
      },
      "source": [
        "## 0.1 Necessary Imports"
      ]
    },
    {
      "cell_type": "code",
      "execution_count": null,
      "metadata": {
        "id": "yUKcBPpvJZPp"
      },
      "outputs": [],
      "source": [
        "import geopandas as gpd\n",
        "import pandas as pd\n",
        "import random\n",
        "import sys\n",
        "sys.path.append('../')\n",
        "import modules.predict as predict\n",
        "import modules.encoder as encoder\n",
        "import copy\n",
        "import numpy as np"
      ]
    },
    {
      "cell_type": "code",
      "execution_count": null,
      "metadata": {
        "id": "0W8vwjI6JZPr"
      },
      "outputs": [],
      "source": [
        "gdf = gpd.read_file('./dhCityModeler/tests/import/TEST_BEFORE_COMPLETION.geojson')"
      ]
    },
    {
      "cell_type": "code",
      "execution_count": null,
      "metadata": {
        "id": "9-MdzrZCJZPs"
      },
      "outputs": [],
      "source": [
        "#before performing the mapping we want to fill incomplete columns\n",
        "target_columns = ['numberOfFloors_original', 'rooftype_original']\n",
        "selected_predictors = ['class', 'first_year', 'last_year', 'numberOfFloors_original', 'material.value', 'rooftype_original']\n",
        "gdf_new = copy.deepcopy(gdf)\n",
        "for target in target_columns:\n",
        "    filled_column, is_pred_column = predict.fill_missing_values(target, gdf, selected_predictors)\n",
        "    #gdf[target] = filled_column\n",
        "    #put the filled column in the gdf substituting the original one\n",
        "    gdf_new[target] = filled_column\n",
        "    gdf_new[target + '_type'] = is_pred_column"
      ]
    },
    {
      "cell_type": "code",
      "execution_count": null,
      "metadata": {
        "colab": {
          "base_uri": "https://localhost:8080/"
        },
        "id": "NcFOwS8dJZPs",
        "outputId": "7d51dd5e-b07e-4c36-b094-f60ca45333fc"
      },
      "outputs": [],
      "source": [
        "# specify in the mapping which columns should change name.\n",
        "mapping = {\n",
        "    'type': 'class',\n",
        "    'time.estimatedStart.timeMoment.year': 'first_year',\n",
        "    'time.estimatedEnd.timeMoment.year': 'last_year',\n",
        "    'numberOfFloors.value':'numberOfFloors_original',\n",
        "    'numberOfFloors.paradata.type':'numberOfFloors_original_type',\n",
        "    'roof.type.value': 'rooftype_original',\n",
        "    'roof.type.paradata.type': 'rooftype_original_type'\n",
        "}\n",
        "# on the left, the name of the field according to the Historical CityJSON extension. On the right, the name of the field in the input geodata.\n",
        "# The fields that are already correctly encoded don't need to be inserted in the mapping\n",
        "# it's not necessary to eliminate non mappable fields, when creating the cityjson they will be ignored\n",
        "\n",
        "# Read the CSV file with the fields to check\n",
        "fields_df = pd.read_csv('./dhCityModeler/extension/geojson_mapping.csv')\n",
        "# Map the GeoDataFrame to HistoricalCityJSON\n",
        "mapped_gdf = encoder.map_gdf_fields_to_historicalcityjson(gdf_new, mapping)\n",
        "\n",
        "mapped_gdf['roof.type.value'].unique()\n"
      ]
    },
    {
      "cell_type": "code",
      "execution_count": null,
      "metadata": {
        "id": "Fw7RcnA6JZPu"
      },
      "outputs": [],
      "source": [
        "gdf= mapped_gdf\n",
        "for row in gdf.iterrows():\n",
        "    if row[1]['roof.type.value'] == 'gabled' or row[1]['roof.type.value'] == 'slanted':\n",
        "        row[1]['roof.type.value'] = random.choice(['hip','gable'])\n",
        "        gdf.loc[row[0],'roof.type.value'] = row[1]['roof.type.value']\n",
        "    if row[1]['numberOfFloors.value'] == '1-3':\n",
        "        row[1]['numberOfFloors.value'] = random.choice([1,2,3])\n",
        "        gdf.loc[row[0],'numberOfFloors.value'] = row[1]['numberOfFloors.value']\n",
        "    if row[1]['numberOfFloors.value'] == '4+':\n",
        "        row[1]['numberOfFloors.value'] = random.choice([4,5,6])\n",
        "        gdf.loc[row[0],'numberOfFloors.value'] = row[1]['numberOfFloors.value']\n",
        "    if row[1]['numberOfFloors.value'] == '6+':\n",
        "        row[1]['numberOfFloors.value'] = random.choice([6,7,8])\n",
        "        gdf.loc[row[0],'numberOfFloors.value'] = row[1]['numberOfFloors.value']\n",
        "    if row[1]['type'] == 'archway':\n",
        "        row[1]['type'] = 'Archway'\n",
        "        gdf.loc[row[0],'type'] = row[1]['type']\n",
        "\n",
        "mapping_type = {'archway':'Archway'}\n",
        "mapping_rooftype = {\n",
        "    'destroyed building': '',\n",
        "    'cupola':'domed'}"
      ]
    },
    {
      "cell_type": "code",
      "execution_count": null,
      "metadata": {
        "id": "0L1Dki2tJZPu"
      },
      "outputs": [],
      "source": [
        "df_mapped_values = encoder.map_column_values(gdf, 'type', mapping_type)\n",
        "df_mapped_values = encoder.map_column_values(df_mapped_values, 'roof.type.value', mapping_rooftype)"
      ]
    },
    {
      "cell_type": "code",
      "execution_count": null,
      "metadata": {
        "colab": {
          "base_uri": "https://localhost:8080/"
        },
        "id": "-8zv1zkzJZPu",
        "outputId": "99751d0f-07c6-4678-9f1f-8d91fe329469"
      },
      "outputs": [],
      "source": [
        "df_mapped_values['roof.type.value'].unique()"
      ]
    },
    {
      "cell_type": "code",
      "execution_count": null,
      "metadata": {
        "id": "Ykv3wRByJZPv"
      },
      "outputs": [],
      "source": [
        "#save the dataframe as a geojson\n",
        "df_mapped_values.to_file('./dhCityModeler/import/TEST_AFTER_COMPLETION.geojson', driver='GeoJSON')"
      ]
    }
  ],
  "metadata": {
    "colab": {
      "include_colab_link": true,
      "provenance": []
    },
    "kernelspec": {
      "display_name": "Python 3.10.0 ('dhCityModeller')",
      "language": "python",
      "name": "python3"
    },
    "language_info": {
      "codemirror_mode": {
        "name": "ipython",
        "version": 3
      },
      "file_extension": ".py",
      "mimetype": "text/x-python",
      "name": "python",
      "nbconvert_exporter": "python",
      "pygments_lexer": "ipython3",
      "version": "3.10.0"
    },
    "orig_nbformat": 4,
    "vscode": {
      "interpreter": {
        "hash": "6045bf2f8d7785ceaee67a8df419762f500f59e1943ace876e6b428e232b0e87"
      }
    }
  },
  "nbformat": 4,
  "nbformat_minor": 0
}
