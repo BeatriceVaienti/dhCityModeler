{
  "cells": [
    {
      "cell_type": "markdown",
      "metadata": {
        "id": "view-in-github",
        "colab_type": "text"
      },
      "source": [
        "<a href=\"https://colab.research.google.com/github/BeatriceVaienti/dhCityModeler/blob/master/tests/colab_filling_and_mapping.ipynb\" target=\"_parent\"><img src=\"https://colab.research.google.com/assets/colab-badge.svg\" alt=\"Open In Colab\"/></a>"
      ]
    },
    {
      "cell_type": "markdown",
      "source": [
        "# **PREPARING THE DATASET TO USE DHCITYMODELER**"
      ],
      "metadata": {
        "id": "-dj6WvhBJdLM"
      }
    },
    {
      "cell_type": "markdown",
      "source": [
        "# **0. REPOSITORY CLONING AND IMPORTS**\n",
        "Before starting, use this set of cells to clone and install the repository in the Google Colab, and to import the necessary modules."
      ],
      "metadata": {
        "id": "Gc-F-xweJtFh"
      }
    },
    {
      "cell_type": "markdown",
      "source": [
        "## 0.0-A Repository cloning while it's private:"
      ],
      "metadata": {
        "id": "PHX7jZwPJ-pe"
      }
    },
    {
      "cell_type": "code",
      "source": [
        "# ONLY UNTIL THE REPO IS PRIVATE!\n",
        "!wget -q https://raw.githubusercontent.com/tsunrise/colab-github/main/colab_github.py\n",
        "import colab_github\n",
        "colab_github.github_auth(persistent_key=True)\n",
        "!git clone git@github.com:BeatriceVaienti/dhCityModeler.git\n",
        "# We move inside the folder that we just created and install the repo:\n",
        "!pip install -q setuptools\n",
        "%cd /content/dhCityModeler\n",
        "%pip install .\n",
        "#geopandas can have issues when installed with pip like we did, so we make sure it is correctly installed:\n",
        "%pip install --force-reinstall geopandas\n",
        "# after this, click on restart runtime"
      ],
      "metadata": {
        "id": "FSh2oGlyJ6vI",
        "outputId": "26326d48-dfa8-4c48-99cf-71e23bc53d06",
        "colab": {
          "base_uri": "https://localhost:8080/",
          "height": 1000
        }
      },
      "execution_count": 1,
      "outputs": [
        {
          "output_type": "stream",
          "name": "stdout",
          "text": [
            "Mounted at /content/drive/\n",
            "Looks that a private key is already created. If you have already push it to github, no action required.\n",
            " Otherwise, Please go to https://github.com/settings/ssh/new to upload the following key: \n",
            "ssh-ed25519 AAAAC3NzaC1lZDI1NTE5AAAAIHwvmnQNtn+uqNJq0CgCpcLeqEqSXUI5eBxjg61eZSOz root@3d3c5dad2a5a\n",
            "\n",
            "Please use SSH method to clone repo.\n",
            "Cloning into 'dhCityModeler'...\n",
            "Warning: Permanently added the ED25519 host key for IP address '140.82.113.4' to the list of known hosts.\n",
            "remote: Enumerating objects: 192, done.\u001b[K\n",
            "remote: Counting objects: 100% (192/192), done.\u001b[K\n",
            "remote: Compressing objects: 100% (97/97), done.\u001b[K\n",
            "remote: Total 192 (delta 102), reused 176 (delta 92), pack-reused 0\u001b[K\n",
            "Receiving objects: 100% (192/192), 479.22 KiB | 1.88 MiB/s, done.\n",
            "Resolving deltas: 100% (102/102), done.\n",
            "/content/dhCityModeler\n",
            "Processing /content/dhCityModeler\n",
            "  Preparing metadata (setup.py) ... \u001b[?25l\u001b[?25hdone\n",
            "Collecting geopandas@ git+https://github.com/geopandas/geopandas.git@main (from dhCityModeler==1.0.0)\n",
            "  Cloning https://github.com/geopandas/geopandas.git (to revision main) to /tmp/pip-install-seora022/geopandas_2ae1b8bff14047e790f5d3cf122f46e8\n",
            "  Running command git clone --filter=blob:none --quiet https://github.com/geopandas/geopandas.git /tmp/pip-install-seora022/geopandas_2ae1b8bff14047e790f5d3cf122f46e8\n",
            "  Resolved https://github.com/geopandas/geopandas.git to commit 5094c4fce92405cd4b680cce6b2fe3fbb46e6a50\n",
            "  Installing build dependencies ... \u001b[?25l\u001b[?25hdone\n",
            "  Getting requirements to build wheel ... \u001b[?25l\u001b[?25hdone\n",
            "  Installing backend dependencies ... \u001b[?25l\u001b[?25hdone\n",
            "  Preparing metadata (pyproject.toml) ... \u001b[?25l\u001b[?25hdone\n",
            "Collecting cadquery@ git+https://github.com/CadQuery/cadquery.git@master (from dhCityModeler==1.0.0)\n",
            "  Cloning https://github.com/CadQuery/cadquery.git (to revision master) to /tmp/pip-install-seora022/cadquery_ef102d41a5124337ac2809f720e211ba\n",
            "  Running command git clone --filter=blob:none --quiet https://github.com/CadQuery/cadquery.git /tmp/pip-install-seora022/cadquery_ef102d41a5124337ac2809f720e211ba\n",
            "  Resolved https://github.com/CadQuery/cadquery.git to commit 8e7eb3012531fabd3b7dc9fc08d9b43f0552c4e5\n",
            "  Preparing metadata (setup.py) ... \u001b[?25l\u001b[?25hdone\n",
            "Requirement already satisfied: numpy in /usr/local/lib/python3.10/dist-packages (from dhCityModeler==1.0.0) (1.22.4)\n",
            "Requirement already satisfied: pandas in /usr/local/lib/python3.10/dist-packages (from dhCityModeler==1.0.0) (1.5.3)\n",
            "Collecting cadquery-ocp (from dhCityModeler==1.0.0)\n",
            "  Downloading cadquery_ocp-7.7.0-cp310-cp310-manylinux_2_31_x86_64.whl (146.4 MB)\n",
            "\u001b[2K     \u001b[90m━━━━━━━━━━━━━━━━━━━━━━━━━━━━━━━━━━━━━━━\u001b[0m \u001b[32m146.4/146.4 MB\u001b[0m \u001b[31m7.9 MB/s\u001b[0m eta \u001b[36m0:00:00\u001b[0m\n",
            "\u001b[?25hRequirement already satisfied: ipykernel in /usr/local/lib/python3.10/dist-packages (from dhCityModeler==1.0.0) (5.5.6)\n",
            "Collecting pydelatin (from dhCityModeler==1.0.0)\n",
            "  Downloading pydelatin-0.2.7-cp310-cp310-manylinux_2_17_x86_64.manylinux2014_x86_64.whl (220 kB)\n",
            "\u001b[2K     \u001b[90m━━━━━━━━━━━━━━━━━━━━━━━━━━━━━━━━━━━━━━\u001b[0m \u001b[32m220.1/220.1 kB\u001b[0m \u001b[31m24.8 MB/s\u001b[0m eta \u001b[36m0:00:00\u001b[0m\n",
            "\u001b[?25hRequirement already satisfied: scikit-learn>=1.2 in /usr/local/lib/python3.10/dist-packages (from dhCityModeler==1.0.0) (1.2.2)\n",
            "Requirement already satisfied: scipy>=1.3.2 in /usr/local/lib/python3.10/dist-packages (from scikit-learn>=1.2->dhCityModeler==1.0.0) (1.10.1)\n",
            "Requirement already satisfied: joblib>=1.1.1 in /usr/local/lib/python3.10/dist-packages (from scikit-learn>=1.2->dhCityModeler==1.0.0) (1.2.0)\n",
            "Requirement already satisfied: threadpoolctl>=2.0.0 in /usr/local/lib/python3.10/dist-packages (from scikit-learn>=1.2->dhCityModeler==1.0.0) (3.1.0)\n",
            "Collecting ezdxf (from cadquery@ git+https://github.com/CadQuery/cadquery.git@master->dhCityModeler==1.0.0)\n",
            "  Downloading ezdxf-1.0.3-cp310-cp310-manylinux_2_17_x86_64.manylinux2014_x86_64.whl (3.1 MB)\n",
            "\u001b[2K     \u001b[90m━━━━━━━━━━━━━━━━━━━━━━━━━━━━━━━━━━━━━━━━\u001b[0m \u001b[32m3.1/3.1 MB\u001b[0m \u001b[31m74.9 MB/s\u001b[0m eta \u001b[36m0:00:00\u001b[0m\n",
            "\u001b[?25hCollecting multimethod<2.0,>=1.7 (from cadquery@ git+https://github.com/CadQuery/cadquery.git@master->dhCityModeler==1.0.0)\n",
            "  Downloading multimethod-1.9.1-py3-none-any.whl (10 kB)\n",
            "Collecting nlopt (from cadquery@ git+https://github.com/CadQuery/cadquery.git@master->dhCityModeler==1.0.0)\n",
            "  Downloading nlopt-2.7.1-cp310-cp310-manylinux_2_17_x86_64.manylinux2014_x86_64.whl (423 kB)\n",
            "\u001b[2K     \u001b[90m━━━━━━━━━━━━━━━━━━━━━━━━━━━━━━━━━━━━━━\u001b[0m \u001b[32m423.7/423.7 kB\u001b[0m \u001b[31m33.0 MB/s\u001b[0m eta \u001b[36m0:00:00\u001b[0m\n",
            "\u001b[?25hCollecting nptyping==2.0.1 (from cadquery@ git+https://github.com/CadQuery/cadquery.git@master->dhCityModeler==1.0.0)\n",
            "  Downloading nptyping-2.0.1-py3-none-any.whl (19 kB)\n",
            "Collecting typish (from cadquery@ git+https://github.com/CadQuery/cadquery.git@master->dhCityModeler==1.0.0)\n",
            "  Downloading typish-1.9.3-py3-none-any.whl (45 kB)\n",
            "\u001b[2K     \u001b[90m━━━━━━━━━━━━━━━━━━━━━━━━━━━━━━━━━━━━━━━━\u001b[0m \u001b[32m45.1/45.1 kB\u001b[0m \u001b[31m5.1 MB/s\u001b[0m eta \u001b[36m0:00:00\u001b[0m\n",
            "\u001b[?25hCollecting casadi (from cadquery@ git+https://github.com/CadQuery/cadquery.git@master->dhCityModeler==1.0.0)\n",
            "  Downloading casadi-3.6.3-cp310-none-manylinux2014_x86_64.whl (67.5 MB)\n",
            "\u001b[2K     \u001b[90m━━━━━━━━━━━━━━━━━━━━━━━━━━━━━━━━━━━━━━━━\u001b[0m \u001b[32m67.5/67.5 MB\u001b[0m \u001b[31m9.2 MB/s\u001b[0m eta \u001b[36m0:00:00\u001b[0m\n",
            "\u001b[?25hCollecting path (from cadquery@ git+https://github.com/CadQuery/cadquery.git@master->dhCityModeler==1.0.0)\n",
            "  Downloading path-16.6.0-py3-none-any.whl (26 kB)\n",
            "Requirement already satisfied: fiona>=1.8.19 in /usr/local/lib/python3.10/dist-packages (from geopandas@ git+https://github.com/geopandas/geopandas.git@main->dhCityModeler==1.0.0) (1.9.4.post1)\n",
            "Requirement already satisfied: packaging in /usr/local/lib/python3.10/dist-packages (from geopandas@ git+https://github.com/geopandas/geopandas.git@main->dhCityModeler==1.0.0) (23.1)\n",
            "Requirement already satisfied: pyproj>=3.0.1 in /usr/local/lib/python3.10/dist-packages (from geopandas@ git+https://github.com/geopandas/geopandas.git@main->dhCityModeler==1.0.0) (3.6.0)\n",
            "Requirement already satisfied: shapely>=1.7.1 in /usr/local/lib/python3.10/dist-packages (from geopandas@ git+https://github.com/geopandas/geopandas.git@main->dhCityModeler==1.0.0) (2.0.1)\n",
            "Requirement already satisfied: python-dateutil>=2.8.1 in /usr/local/lib/python3.10/dist-packages (from pandas->dhCityModeler==1.0.0) (2.8.2)\n",
            "Requirement already satisfied: pytz>=2020.1 in /usr/local/lib/python3.10/dist-packages (from pandas->dhCityModeler==1.0.0) (2022.7.1)\n",
            "Requirement already satisfied: ipython-genutils in /usr/local/lib/python3.10/dist-packages (from ipykernel->dhCityModeler==1.0.0) (0.2.0)\n",
            "Requirement already satisfied: ipython>=5.0.0 in /usr/local/lib/python3.10/dist-packages (from ipykernel->dhCityModeler==1.0.0) (7.34.0)\n",
            "Requirement already satisfied: traitlets>=4.1.0 in /usr/local/lib/python3.10/dist-packages (from ipykernel->dhCityModeler==1.0.0) (5.7.1)\n",
            "Requirement already satisfied: jupyter-client in /usr/local/lib/python3.10/dist-packages (from ipykernel->dhCityModeler==1.0.0) (6.1.12)\n",
            "Requirement already satisfied: tornado>=4.2 in /usr/local/lib/python3.10/dist-packages (from ipykernel->dhCityModeler==1.0.0) (6.3.1)\n",
            "Requirement already satisfied: attrs>=19.2.0 in /usr/local/lib/python3.10/dist-packages (from fiona>=1.8.19->geopandas@ git+https://github.com/geopandas/geopandas.git@main->dhCityModeler==1.0.0) (23.1.0)\n",
            "Requirement already satisfied: certifi in /usr/local/lib/python3.10/dist-packages (from fiona>=1.8.19->geopandas@ git+https://github.com/geopandas/geopandas.git@main->dhCityModeler==1.0.0) (2023.5.7)\n",
            "Requirement already satisfied: click~=8.0 in /usr/local/lib/python3.10/dist-packages (from fiona>=1.8.19->geopandas@ git+https://github.com/geopandas/geopandas.git@main->dhCityModeler==1.0.0) (8.1.3)\n",
            "Requirement already satisfied: click-plugins>=1.0 in /usr/local/lib/python3.10/dist-packages (from fiona>=1.8.19->geopandas@ git+https://github.com/geopandas/geopandas.git@main->dhCityModeler==1.0.0) (1.1.1)\n",
            "Requirement already satisfied: cligj>=0.5 in /usr/local/lib/python3.10/dist-packages (from fiona>=1.8.19->geopandas@ git+https://github.com/geopandas/geopandas.git@main->dhCityModeler==1.0.0) (0.7.2)\n",
            "Requirement already satisfied: six in /usr/local/lib/python3.10/dist-packages (from fiona>=1.8.19->geopandas@ git+https://github.com/geopandas/geopandas.git@main->dhCityModeler==1.0.0) (1.16.0)\n",
            "Requirement already satisfied: setuptools>=18.5 in /usr/local/lib/python3.10/dist-packages (from ipython>=5.0.0->ipykernel->dhCityModeler==1.0.0) (67.7.2)\n",
            "Collecting jedi>=0.16 (from ipython>=5.0.0->ipykernel->dhCityModeler==1.0.0)\n",
            "  Downloading jedi-0.18.2-py2.py3-none-any.whl (1.6 MB)\n",
            "\u001b[2K     \u001b[90m━━━━━━━━━━━━━━━━━━━━━━━━━━━━━━━━━━━━━━━━\u001b[0m \u001b[32m1.6/1.6 MB\u001b[0m \u001b[31m59.9 MB/s\u001b[0m eta \u001b[36m0:00:00\u001b[0m\n",
            "\u001b[?25hRequirement already satisfied: decorator in /usr/local/lib/python3.10/dist-packages (from ipython>=5.0.0->ipykernel->dhCityModeler==1.0.0) (4.4.2)\n",
            "Requirement already satisfied: pickleshare in /usr/local/lib/python3.10/dist-packages (from ipython>=5.0.0->ipykernel->dhCityModeler==1.0.0) (0.7.5)\n",
            "Requirement already satisfied: prompt-toolkit!=3.0.0,!=3.0.1,<3.1.0,>=2.0.0 in /usr/local/lib/python3.10/dist-packages (from ipython>=5.0.0->ipykernel->dhCityModeler==1.0.0) (3.0.38)\n",
            "Requirement already satisfied: pygments in /usr/local/lib/python3.10/dist-packages (from ipython>=5.0.0->ipykernel->dhCityModeler==1.0.0) (2.14.0)\n",
            "Requirement already satisfied: backcall in /usr/local/lib/python3.10/dist-packages (from ipython>=5.0.0->ipykernel->dhCityModeler==1.0.0) (0.2.0)\n",
            "Requirement already satisfied: matplotlib-inline in /usr/local/lib/python3.10/dist-packages (from ipython>=5.0.0->ipykernel->dhCityModeler==1.0.0) (0.1.6)\n",
            "Requirement already satisfied: pexpect>4.3 in /usr/local/lib/python3.10/dist-packages (from ipython>=5.0.0->ipykernel->dhCityModeler==1.0.0) (4.8.0)\n",
            "Requirement already satisfied: pyparsing>=2.0.1 in /usr/local/lib/python3.10/dist-packages (from ezdxf->cadquery@ git+https://github.com/CadQuery/cadquery.git@master->dhCityModeler==1.0.0) (3.1.0)\n",
            "Requirement already satisfied: typing-extensions in /usr/local/lib/python3.10/dist-packages (from ezdxf->cadquery@ git+https://github.com/CadQuery/cadquery.git@master->dhCityModeler==1.0.0) (4.6.3)\n",
            "Requirement already satisfied: jupyter-core>=4.6.0 in /usr/local/lib/python3.10/dist-packages (from jupyter-client->ipykernel->dhCityModeler==1.0.0) (5.3.1)\n",
            "Requirement already satisfied: pyzmq>=13 in /usr/local/lib/python3.10/dist-packages (from jupyter-client->ipykernel->dhCityModeler==1.0.0) (23.2.1)\n",
            "Requirement already satisfied: parso<0.9.0,>=0.8.0 in /usr/local/lib/python3.10/dist-packages (from jedi>=0.16->ipython>=5.0.0->ipykernel->dhCityModeler==1.0.0) (0.8.3)\n",
            "Requirement already satisfied: platformdirs>=2.5 in /usr/local/lib/python3.10/dist-packages (from jupyter-core>=4.6.0->jupyter-client->ipykernel->dhCityModeler==1.0.0) (3.7.0)\n",
            "Requirement already satisfied: ptyprocess>=0.5 in /usr/local/lib/python3.10/dist-packages (from pexpect>4.3->ipython>=5.0.0->ipykernel->dhCityModeler==1.0.0) (0.7.0)\n",
            "Requirement already satisfied: wcwidth in /usr/local/lib/python3.10/dist-packages (from prompt-toolkit!=3.0.0,!=3.0.1,<3.1.0,>=2.0.0->ipython>=5.0.0->ipykernel->dhCityModeler==1.0.0) (0.2.6)\n",
            "Building wheels for collected packages: dhCityModeler, cadquery, geopandas\n",
            "  Building wheel for dhCityModeler (setup.py) ... \u001b[?25l\u001b[?25hdone\n",
            "  Created wheel for dhCityModeler: filename=dhCityModeler-1.0.0-py3-none-any.whl size=34403 sha256=fe378ece207223a6ea8664554bf7de64469487dc621e39c7f12ca2e15c45c198\n",
            "  Stored in directory: /tmp/pip-ephem-wheel-cache-srt5ctkl/wheels/c8/0a/8f/6f33d2030d23cacb31a851ca4dc02ec86a0153e04ae919003c\n",
            "  Building wheel for cadquery (setup.py) ... \u001b[?25l\u001b[?25hdone\n",
            "  Created wheel for cadquery: filename=cadquery-2.3.1-py3-none-any.whl size=145300 sha256=e83c0a9a5badea1523071df535c801a512a59740647ad866bcf5af50678c77d9\n",
            "  Stored in directory: /tmp/pip-ephem-wheel-cache-srt5ctkl/wheels/e4/ea/19/a6dc03b444b73beb2936c13c32ad706a519a5e6235cdbaee38\n",
            "  Building wheel for geopandas (pyproject.toml) ... \u001b[?25l\u001b[?25hdone\n",
            "  Created wheel for geopandas: filename=geopandas-0.13.2+12.g5094c4f-py3-none-any.whl size=1100637 sha256=5921fc325035597a771c6dc4d6a85f4c0e677a59451734f558ea3753615f25d8\n",
            "  Stored in directory: /tmp/pip-ephem-wheel-cache-srt5ctkl/wheels/4c/d7/d9/8661984f36f5423ea0990142a12e05970d5ac69e2ff5f9b38f\n",
            "Successfully built dhCityModeler cadquery geopandas\n",
            "Installing collected packages: typish, cadquery-ocp, pydelatin, path, nptyping, nlopt, multimethod, jedi, ezdxf, casadi, cadquery, geopandas, dhCityModeler\n",
            "  Attempting uninstall: geopandas\n",
            "    Found existing installation: geopandas 0.13.2\n",
            "    Uninstalling geopandas-0.13.2:\n",
            "      Successfully uninstalled geopandas-0.13.2\n",
            "Successfully installed cadquery-2.3.1 cadquery-ocp-7.7.0 casadi-3.6.3 dhCityModeler-1.0.0 ezdxf-1.0.3 geopandas-0.13.2+12.g5094c4f jedi-0.18.2 multimethod-1.9.1 nlopt-2.7.1 nptyping-2.0.1 path-16.6.0 pydelatin-0.2.7 typish-1.9.3\n",
            "Collecting geopandas\n",
            "  Downloading geopandas-0.13.2-py3-none-any.whl (1.1 MB)\n",
            "\u001b[2K     \u001b[90m━━━━━━━━━━━━━━━━━━━━━━━━━━━━━━━━━━━━━━━━\u001b[0m \u001b[32m1.1/1.1 MB\u001b[0m \u001b[31m22.2 MB/s\u001b[0m eta \u001b[36m0:00:00\u001b[0m\n",
            "\u001b[?25hCollecting fiona>=1.8.19 (from geopandas)\n",
            "  Downloading Fiona-1.9.4.post1-cp310-cp310-manylinux_2_17_x86_64.manylinux2014_x86_64.whl (16.4 MB)\n",
            "\u001b[2K     \u001b[90m━━━━━━━━━━━━━━━━━━━━━━━━━━━━━━━━━━━━━━━━\u001b[0m \u001b[32m16.4/16.4 MB\u001b[0m \u001b[31m17.7 MB/s\u001b[0m eta \u001b[36m0:00:00\u001b[0m\n",
            "\u001b[?25hCollecting packaging (from geopandas)\n",
            "  Downloading packaging-23.1-py3-none-any.whl (48 kB)\n",
            "\u001b[2K     \u001b[90m━━━━━━━━━━━━━━━━━━━━━━━━━━━━━━━━━━━━━━━━\u001b[0m \u001b[32m48.9/48.9 kB\u001b[0m \u001b[31m4.8 MB/s\u001b[0m eta \u001b[36m0:00:00\u001b[0m\n",
            "\u001b[?25hCollecting pandas>=1.1.0 (from geopandas)\n",
            "  Downloading pandas-2.0.3-cp310-cp310-manylinux_2_17_x86_64.manylinux2014_x86_64.whl (12.3 MB)\n",
            "\u001b[2K     \u001b[90m━━━━━━━━━━━━━━━━━━━━━━━━━━━━━━━━━━━━━━━━\u001b[0m \u001b[32m12.3/12.3 MB\u001b[0m \u001b[31m89.5 MB/s\u001b[0m eta \u001b[36m0:00:00\u001b[0m\n",
            "\u001b[?25hCollecting pyproj>=3.0.1 (from geopandas)\n",
            "  Downloading pyproj-3.6.0-cp310-cp310-manylinux_2_17_x86_64.manylinux2014_x86_64.whl (7.9 MB)\n",
            "\u001b[2K     \u001b[90m━━━━━━━━━━━━━━━━━━━━━━━━━━━━━━━━━━━━━━━━\u001b[0m \u001b[32m7.9/7.9 MB\u001b[0m \u001b[31m64.4 MB/s\u001b[0m eta \u001b[36m0:00:00\u001b[0m\n",
            "\u001b[?25hCollecting shapely>=1.7.1 (from geopandas)\n",
            "  Downloading shapely-2.0.1-cp310-cp310-manylinux_2_17_x86_64.manylinux2014_x86_64.whl (2.3 MB)\n",
            "\u001b[2K     \u001b[90m━━━━━━━━━━━━━━━━━━━━━━━━━━━━━━━━━━━━━━━━\u001b[0m \u001b[32m2.3/2.3 MB\u001b[0m \u001b[31m81.3 MB/s\u001b[0m eta \u001b[36m0:00:00\u001b[0m\n",
            "\u001b[?25hCollecting attrs>=19.2.0 (from fiona>=1.8.19->geopandas)\n",
            "  Downloading attrs-23.1.0-py3-none-any.whl (61 kB)\n",
            "\u001b[2K     \u001b[90m━━━━━━━━━━━━━━━━━━━━━━━━━━━━━━━━━━━━━━━━\u001b[0m \u001b[32m61.2/61.2 kB\u001b[0m \u001b[31m6.9 MB/s\u001b[0m eta \u001b[36m0:00:00\u001b[0m\n",
            "\u001b[?25hCollecting certifi (from fiona>=1.8.19->geopandas)\n",
            "  Downloading certifi-2023.5.7-py3-none-any.whl (156 kB)\n",
            "\u001b[2K     \u001b[90m━━━━━━━━━━━━━━━━━━━━━━━━━━━━━━━━━━━━━━\u001b[0m \u001b[32m157.0/157.0 kB\u001b[0m \u001b[31m17.6 MB/s\u001b[0m eta \u001b[36m0:00:00\u001b[0m\n",
            "\u001b[?25hCollecting click~=8.0 (from fiona>=1.8.19->geopandas)\n",
            "  Downloading click-8.1.3-py3-none-any.whl (96 kB)\n",
            "\u001b[2K     \u001b[90m━━━━━━━━━━━━━━━━━━━━━━━━━━━━━━━━━━━━━━━━\u001b[0m \u001b[32m96.6/96.6 kB\u001b[0m \u001b[31m11.7 MB/s\u001b[0m eta \u001b[36m0:00:00\u001b[0m\n",
            "\u001b[?25hCollecting click-plugins>=1.0 (from fiona>=1.8.19->geopandas)\n",
            "  Downloading click_plugins-1.1.1-py2.py3-none-any.whl (7.5 kB)\n",
            "Collecting cligj>=0.5 (from fiona>=1.8.19->geopandas)\n",
            "  Downloading cligj-0.7.2-py3-none-any.whl (7.1 kB)\n",
            "Collecting six (from fiona>=1.8.19->geopandas)\n",
            "  Downloading six-1.16.0-py2.py3-none-any.whl (11 kB)\n",
            "Collecting python-dateutil>=2.8.2 (from pandas>=1.1.0->geopandas)\n",
            "  Downloading python_dateutil-2.8.2-py2.py3-none-any.whl (247 kB)\n",
            "\u001b[2K     \u001b[90m━━━━━━━━━━━━━━━━━━━━━━━━━━━━━━━━━━━━━━\u001b[0m \u001b[32m247.7/247.7 kB\u001b[0m \u001b[31m23.1 MB/s\u001b[0m eta \u001b[36m0:00:00\u001b[0m\n",
            "\u001b[?25hCollecting pytz>=2020.1 (from pandas>=1.1.0->geopandas)\n",
            "  Downloading pytz-2023.3-py2.py3-none-any.whl (502 kB)\n",
            "\u001b[2K     \u001b[90m━━━━━━━━━━━━━━━━━━━━━━━━━━━━━━━━━━━━━━\u001b[0m \u001b[32m502.3/502.3 kB\u001b[0m \u001b[31m37.8 MB/s\u001b[0m eta \u001b[36m0:00:00\u001b[0m\n",
            "\u001b[?25hCollecting tzdata>=2022.1 (from pandas>=1.1.0->geopandas)\n",
            "  Downloading tzdata-2023.3-py2.py3-none-any.whl (341 kB)\n",
            "\u001b[2K     \u001b[90m━━━━━━━━━━━━━━━━━━━━━━━━━━━━━━━━━━━━━━\u001b[0m \u001b[32m341.8/341.8 kB\u001b[0m \u001b[31m31.7 MB/s\u001b[0m eta \u001b[36m0:00:00\u001b[0m\n",
            "\u001b[?25hCollecting numpy>=1.21.0 (from pandas>=1.1.0->geopandas)\n",
            "  Downloading numpy-1.25.0-cp310-cp310-manylinux_2_17_x86_64.manylinux2014_x86_64.whl (17.6 MB)\n",
            "\u001b[2K     \u001b[90m━━━━━━━━━━━━━━━━━━━━━━━━━━━━━━━━━━━━━━━━\u001b[0m \u001b[32m17.6/17.6 MB\u001b[0m \u001b[31m68.1 MB/s\u001b[0m eta \u001b[36m0:00:00\u001b[0m\n",
            "\u001b[?25hInstalling collected packages: pytz, tzdata, six, packaging, numpy, click, certifi, attrs, shapely, python-dateutil, pyproj, cligj, click-plugins, pandas, fiona, geopandas\n",
            "  Attempting uninstall: pytz\n",
            "    Found existing installation: pytz 2022.7.1\n",
            "    Uninstalling pytz-2022.7.1:\n",
            "      Successfully uninstalled pytz-2022.7.1\n",
            "  Attempting uninstall: six\n",
            "    Found existing installation: six 1.16.0\n",
            "    Uninstalling six-1.16.0:\n",
            "      Successfully uninstalled six-1.16.0\n",
            "  Attempting uninstall: packaging\n",
            "    Found existing installation: packaging 23.1\n",
            "    Uninstalling packaging-23.1:\n",
            "      Successfully uninstalled packaging-23.1\n",
            "  Attempting uninstall: numpy\n",
            "    Found existing installation: numpy 1.22.4\n",
            "    Uninstalling numpy-1.22.4:\n",
            "      Successfully uninstalled numpy-1.22.4\n",
            "  Attempting uninstall: click\n",
            "    Found existing installation: click 8.1.3\n",
            "    Uninstalling click-8.1.3:\n",
            "      Successfully uninstalled click-8.1.3\n",
            "  Attempting uninstall: certifi\n",
            "    Found existing installation: certifi 2023.5.7\n",
            "    Uninstalling certifi-2023.5.7:\n",
            "      Successfully uninstalled certifi-2023.5.7\n",
            "  Attempting uninstall: attrs\n",
            "    Found existing installation: attrs 23.1.0\n",
            "    Uninstalling attrs-23.1.0:\n",
            "      Successfully uninstalled attrs-23.1.0\n",
            "  Attempting uninstall: shapely\n",
            "    Found existing installation: shapely 2.0.1\n",
            "    Uninstalling shapely-2.0.1:\n",
            "      Successfully uninstalled shapely-2.0.1\n",
            "  Attempting uninstall: python-dateutil\n",
            "    Found existing installation: python-dateutil 2.8.2\n",
            "    Uninstalling python-dateutil-2.8.2:\n",
            "      Successfully uninstalled python-dateutil-2.8.2\n",
            "  Attempting uninstall: pyproj\n",
            "    Found existing installation: pyproj 3.6.0\n",
            "    Uninstalling pyproj-3.6.0:\n",
            "      Successfully uninstalled pyproj-3.6.0\n",
            "  Attempting uninstall: cligj\n",
            "    Found existing installation: cligj 0.7.2\n",
            "    Uninstalling cligj-0.7.2:\n",
            "      Successfully uninstalled cligj-0.7.2\n",
            "  Attempting uninstall: click-plugins\n",
            "    Found existing installation: click-plugins 1.1.1\n",
            "    Uninstalling click-plugins-1.1.1:\n",
            "      Successfully uninstalled click-plugins-1.1.1\n",
            "  Attempting uninstall: pandas\n",
            "    Found existing installation: pandas 1.5.3\n",
            "    Uninstalling pandas-1.5.3:\n",
            "      Successfully uninstalled pandas-1.5.3\n",
            "  Attempting uninstall: fiona\n",
            "    Found existing installation: Fiona 1.9.4.post1\n",
            "    Uninstalling Fiona-1.9.4.post1:\n",
            "      Successfully uninstalled Fiona-1.9.4.post1\n",
            "  Attempting uninstall: geopandas\n",
            "    Found existing installation: geopandas 0.13.2+12.g5094c4f\n",
            "    Uninstalling geopandas-0.13.2+12.g5094c4f:\n",
            "      Successfully uninstalled geopandas-0.13.2+12.g5094c4f\n",
            "\u001b[31mERROR: pip's dependency resolver does not currently take into account all the packages that are installed. This behaviour is the source of the following dependency conflicts.\n",
            "google-colab 1.0.0 requires pandas==1.5.3, but you have pandas 2.0.3 which is incompatible.\n",
            "numba 0.56.4 requires numpy<1.24,>=1.18, but you have numpy 1.25.0 which is incompatible.\n",
            "tensorflow 2.12.0 requires numpy<1.24,>=1.22, but you have numpy 1.25.0 which is incompatible.\u001b[0m\u001b[31m\n",
            "\u001b[0mSuccessfully installed attrs-23.1.0 certifi-2023.5.7 click-8.1.3 click-plugins-1.1.1 cligj-0.7.2 fiona-1.9.4.post1 geopandas-0.13.2 numpy-1.25.0 packaging-23.1 pandas-2.0.3 pyproj-3.6.0 python-dateutil-2.8.2 pytz-2023.3 shapely-2.0.1 six-1.16.0 tzdata-2023.3\n"
          ]
        },
        {
          "output_type": "display_data",
          "data": {
            "application/vnd.colab-display-data+json": {
              "pip_warning": {
                "packages": [
                  "certifi",
                  "dateutil",
                  "numpy",
                  "six"
                ]
              }
            }
          },
          "metadata": {}
        }
      ]
    },
    {
      "cell_type": "markdown",
      "source": [
        "## 0.0-B Repository cloning once it's public:"
      ],
      "metadata": {
        "id": "9lod2pI9KGdf"
      }
    },
    {
      "cell_type": "code",
      "source": [
        "# only when the repo is public\n",
        "! git clone https://github.com/BeatriceVaienti/dhCityModeller.git\n",
        "! pip install git+https://github.com/BeatriceVaienti/dhCityModeller.git@master"
      ],
      "metadata": {
        "id": "bvxifHh6KJME"
      },
      "execution_count": null,
      "outputs": []
    },
    {
      "cell_type": "markdown",
      "source": [
        "## 0.1 Necessary Imports"
      ],
      "metadata": {
        "id": "qR7ZOwAfKO49"
      }
    },
    {
      "cell_type": "code",
      "execution_count": 2,
      "metadata": {
        "id": "yUKcBPpvJZPp"
      },
      "outputs": [],
      "source": [
        "import geopandas as gpd\n",
        "import pandas as pd\n",
        "import random\n",
        "import sys\n",
        "sys.path.append('../')\n",
        "import modules.predict as predict\n",
        "import modules.encoder as encoder\n",
        "import copy\n",
        "import numpy as np"
      ]
    },
    {
      "cell_type": "code",
      "execution_count": 6,
      "metadata": {
        "id": "0W8vwjI6JZPr"
      },
      "outputs": [],
      "source": [
        "gdf = gpd.read_file('./dhCityModeler/tests/import/TEST_BEFORE_COMPLETION.geojson')"
      ]
    },
    {
      "cell_type": "code",
      "execution_count": 7,
      "metadata": {
        "id": "9-MdzrZCJZPs"
      },
      "outputs": [],
      "source": [
        "#before performing the mapping we want to fill incomplete columns\n",
        "target_columns = ['numberOfFloors_original', 'rooftype_original']\n",
        "selected_predictors = ['class', 'first_year', 'last_year', 'numberOfFloors_original', 'material.value', 'rooftype_original']\n",
        "gdf_new = copy.deepcopy(gdf)\n",
        "for target in target_columns:\n",
        "    filled_column, is_pred_column = predict.fill_missing_values(target, gdf, selected_predictors)\n",
        "    #gdf[target] = filled_column\n",
        "    #put the filled column in the gdf substituting the original one\n",
        "    gdf_new[target] = filled_column\n",
        "    gdf_new[target + '_type'] = is_pred_column"
      ]
    },
    {
      "cell_type": "code",
      "execution_count": 10,
      "metadata": {
        "id": "NcFOwS8dJZPs",
        "outputId": "7d51dd5e-b07e-4c36-b094-f60ca45333fc",
        "colab": {
          "base_uri": "https://localhost:8080/"
        }
      },
      "outputs": [
        {
          "output_type": "execute_result",
          "data": {
            "text/plain": [
              "array(['gabled', 'flat', 'cupola', 'destroyed building'], dtype=object)"
            ]
          },
          "metadata": {},
          "execution_count": 10
        }
      ],
      "source": [
        "# specify in the mapping which columns should change name.\n",
        "mapping = {\n",
        "    'type': 'class',\n",
        "    'time.estimatedStart.timeMoment.year': 'first_year',\n",
        "    'time.estimatedEnd.timeMoment.year': 'last_year',\n",
        "    'numberOfFloors.value':'numberOfFloors_original',\n",
        "    'numberOfFloors.paradata.type':'numberOfFloors_original_type',\n",
        "    'roof.type.value': 'rooftype_original',\n",
        "    'roof.type.paradata.type': 'rooftype_original_type'\n",
        "}\n",
        "# on the left, the name of the field according to the Historical CityJSON extension. On the right, the name of the field in the input geodata.\n",
        "# The fields that are already correctly encoded don't need to be inserted in the mapping\n",
        "# it's not necessary to eliminate non mappable fields, when creating the cityjson they will be ignored\n",
        "\n",
        "# Read the CSV file with the fields to check\n",
        "fields_df = pd.read_csv('./dhCityModeler/extension/geojson_mapping.csv')\n",
        "# Map the GeoDataFrame to HistoricalCityJSON\n",
        "mapped_gdf = encoder.map_gdf_to_historicalcityjson(gdf_new, fields_df, mapping)\n",
        "\n",
        "mapped_gdf['roof.type.value'].unique()\n"
      ]
    },
    {
      "cell_type": "code",
      "execution_count": 11,
      "metadata": {
        "id": "Fw7RcnA6JZPu"
      },
      "outputs": [],
      "source": [
        "gdf= mapped_gdf\n",
        "for row in gdf.iterrows():\n",
        "    if row[1]['roof.type.value'] == 'gabled' or row[1]['roof.type.value'] == 'slanted':\n",
        "        row[1]['roof.type.value'] = random.choice(['hip','gable'])\n",
        "        gdf.loc[row[0],'roof.type.value'] = row[1]['roof.type.value']\n",
        "    if row[1]['numberOfFloors.value'] == '1-3':\n",
        "        row[1]['numberOfFloors.value'] = random.choice([1,2,3])\n",
        "        gdf.loc[row[0],'numberOfFloors.value'] = row[1]['numberOfFloors.value']\n",
        "    if row[1]['numberOfFloors.value'] == '4+':\n",
        "        row[1]['numberOfFloors.value'] = random.choice([4,5,6])\n",
        "        gdf.loc[row[0],'numberOfFloors.value'] = row[1]['numberOfFloors.value']\n",
        "    if row[1]['numberOfFloors.value'] == '6+':\n",
        "        row[1]['numberOfFloors.value'] = random.choice([6,7,8])\n",
        "        gdf.loc[row[0],'numberOfFloors.value'] = row[1]['numberOfFloors.value']\n",
        "    if row[1]['type'] == 'archway':\n",
        "        row[1]['type'] = 'Archway'\n",
        "        gdf.loc[row[0],'type'] = row[1]['type']\n",
        "\n",
        "mapping_type = {'archway':'Archway'}\n",
        "mapping_rooftype = {\n",
        "    'destroyed building': '',\n",
        "    'cupola':'domed'}"
      ]
    },
    {
      "cell_type": "code",
      "execution_count": 12,
      "metadata": {
        "id": "0L1Dki2tJZPu"
      },
      "outputs": [],
      "source": [
        "df_mapped_values = encoder.map_column_values(gdf, 'type', mapping_type)\n",
        "df_mapped_values = encoder.map_column_values(df_mapped_values, 'roof.type.value', mapping_rooftype)"
      ]
    },
    {
      "cell_type": "code",
      "execution_count": 13,
      "metadata": {
        "id": "-8zv1zkzJZPu",
        "outputId": "99751d0f-07c6-4678-9f1f-8d91fe329469",
        "colab": {
          "base_uri": "https://localhost:8080/"
        }
      },
      "outputs": [
        {
          "output_type": "execute_result",
          "data": {
            "text/plain": [
              "array(['gable', 'flat', 'hip', 'domed', ''], dtype=object)"
            ]
          },
          "metadata": {},
          "execution_count": 13
        }
      ],
      "source": [
        "df_mapped_values['roof.type.value'].unique()"
      ]
    },
    {
      "cell_type": "code",
      "execution_count": null,
      "metadata": {
        "id": "Ykv3wRByJZPv"
      },
      "outputs": [],
      "source": [
        "#save the dataframe as a geojson\n",
        "df_mapped_values.to_file('./dhCityModeler/import/TEST_AFTER_COMPLETION.geojson', driver='GeoJSON')"
      ]
    }
  ],
  "metadata": {
    "kernelspec": {
      "display_name": "Python 3.10.0 ('dhCityModeller')",
      "language": "python",
      "name": "python3"
    },
    "language_info": {
      "codemirror_mode": {
        "name": "ipython",
        "version": 3
      },
      "file_extension": ".py",
      "mimetype": "text/x-python",
      "name": "python",
      "nbconvert_exporter": "python",
      "pygments_lexer": "ipython3",
      "version": "3.10.0"
    },
    "orig_nbformat": 4,
    "vscode": {
      "interpreter": {
        "hash": "6045bf2f8d7785ceaee67a8df419762f500f59e1943ace876e6b428e232b0e87"
      }
    },
    "colab": {
      "provenance": [],
      "include_colab_link": true
    }
  },
  "nbformat": 4,
  "nbformat_minor": 0
}